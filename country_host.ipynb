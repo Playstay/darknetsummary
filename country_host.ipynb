{
 "cells": [
  {
   "cell_type": "code",
   "execution_count": 6,
   "id": "40217fbd",
   "metadata": {},
   "outputs": [
    {
     "data": {
      "text/plain": [
       "#<CSV::Table mode:col_or_row row_count:6130>"
      ]
     },
     "execution_count": 6,
     "metadata": {},
     "output_type": "execute_result"
    }
   ],
   "source": [
    "require 'csv'\n",
    "# 国別ホストCSVのヘッダは\n",
    "# \n",
    "csv = CSV.read('./2022_09/country_host.csv', headers: [\"date\", \"country_JP\",\"country_ISO\",\"access_count\",\"percent\"])"
   ]
  },
  {
   "cell_type": "code",
   "execution_count": 7,
   "id": "a51d1603",
   "metadata": {},
   "outputs": [
    {
     "name": "stdout",
     "output_type": "stream",
     "text": [
      "#<CSV::Row \"date\":\"2022/09/01\" \"country_JP\":\"中国\" \"country_ISO\":\"CN\" \"access_count\":\"64096\" \"percent\":\"25.6785613\">\n",
      "#<CSV::Row \"date\":\"2022/09/01\" \"country_JP\":\"インド\" \"country_ISO\":\"IN\" \"access_count\":\"22837\" \"percent\":\"9.1491092\">\n",
      "#<CSV::Row \"date\":\"2022/09/01\" \"country_JP\":\"アメリカ\" \"country_ISO\":\"US\" \"access_count\":\"14253\" \"percent\":\"5.7101306\">\n",
      "#<CSV::Row \"date\":\"2022/09/01\" \"country_JP\":\"ブラジル\" \"country_ISO\":\"BR\" \"access_count\":\"11722\" \"percent\":\"4.6961448\">\n",
      "#<CSV::Row \"date\":\"2022/09/01\" \"country_JP\":\"メキシコ\" \"country_ISO\":\"MX\" \"access_count\":\"10337\" \"percent\":\"4.1412770\">\n",
      "#<CSV::Row \"date\":\"2022/09/01\" \"country_JP\":\"ロシア連邦\" \"country_ISO\":\"RU\" \"access_count\":\"10028\" \"percent\":\"4.0174833\">\n",
      "#<CSV::Row \"date\":\"2022/09/01\" \"country_JP\":\"エジプト\" \"country_ISO\":\"EG\" \"access_count\":\"9769\" \"percent\":\"3.9137211\">\n",
      "#<CSV::Row \"date\":\"2022/09/01\" \"country_JP\":\"イラン\" \"country_ISO\":\"IR\" \"access_count\":\"9229\" \"percent\":\"3.6973827\">\n",
      "#<CSV::Row \"date\":\"2022/09/01\" \"country_JP\":\"インドネシア\" \"country_ISO\":\"ID\" \"access_count\":\"6376\" \"percent\":\"2.5543951\">\n",
      "#<CSV::Row \"date\":\"2022/09/01\" \"country_JP\":\"韓国\" \"country_ISO\":\"KR\" \"access_count\":\"6151\" \"percent\":\"2.4642541\">\n"
     ]
    }
   ],
   "source": [
    "count = 0 \n",
    "csv.each do |line|\n",
    "  break if count == 10\n",
    "  p line\n",
    "  count+=1\n",
    "end"
   ]
  },
  {
   "cell_type": "code",
   "execution_count": 11,
   "id": "289bca41",
   "metadata": {},
   "outputs": [
    {
     "data": {
      "text/plain": [
       "[[\"CN\", 1727094], [\"IN\", 626686], [\"US\", 402883], [\"BR\", 363992], [\"MX\", 314893], [\"KR\", 295221], [\"RU\", 293032], [\"IR\", 270190], [\"EG\", 218569], [\"VN\", 170173], [\"ID\", 163467], [\"TW\", 156348], [\"PH\", 122307], [\"TH\", 121601], [\"JP\", 93834], [\"PK\", 87541], [\"GB\", 86065], [\"TR\", 85021], [\"IT\", 73431], [\"HK\", 70619], [\"DE\", 69995], [\"AR\", 63992], [\"PL\", 59322], [\"FR\", 52499], [\"CA\", 51940], [\"VE\", 49656], [\"UA\", 49457], [\"ES\", 48395], [\"BD\", 46491], [\"GR\", 43527], [\"RS\", 40639], [\"SG\", 36333], [\"MY\", 35947], [\"SE\", 33760], [\"CO\", 30292], [\"ZA\", 29523], [\"AU\", 26761], [\"LB\", 24887], [\"CZ\", 23732], [\"PE\", 22247], [\"PT\", 22147], [\"RO\", 21617], [\"NG\", 21165], [\"HR\", 20821], [\"NL\", 20732], [\"KZ\", 19566], [\"IL\", 19448], [\"KH\", 19001], [\"SA\", 17978], [\"CL\", 17911], [\"BO\", 17234], [\"EC\", 16523], [\"PS\", 15700], [\"BG\", 14499], [\"MN\", 14133], [\"HU\", 13670], [\"AE\", 13271], [\"MA\", 12742], [\"TN\", 12089], [\"AL\", 11945], [\"KE\", 11621], [\"BE\", 11323], [\"DZ\", 10912], [\"BA\", 10485], [\"NP\", 8587], [\"DO\", 8357], [\"GE\", 8119], [\"BY\", 7923], [\"LT\", 7781], [\"AT\", 7654], [\"LV\", 7547], [\"SK\", 7522], [\"AM\", 7510], [\"MK\", 7407], [\"LK\", 7386], [\"ET\", 7279], [\"IQ\", 6693], [\"UZ\", 6624], [\"PW\", 6500], [\"NO\", 6177], [\"NZ\", 6048], [\"MU\", 5910], [\"UY\", 5769], [\"PA\", 5393], [\"HN\", 4822], [\"SC\", 4647], [\"SI\", 4446], [\"JO\", 4354], [\"MD\", 4222], [\"CH\", 4188], [\"CR\", 4125], [\"KW\", 4116], [\"AZ\", 4093], [\"DK\", 4075], [\"LA\", 4061], [\"KG\", 3715], [\"EE\", 3666], [\"IE\", 3513], [\"CY\", 3358], [\"TZ\", 3264], [\"BH\", 3253], [\"MM\", 3087], [\"SD\", 3075], [\"PY\", 2939], [\"GT\", 2801], [\"FI\", 2740], [\"MV\", 2739], [\"GH\", 2585], [\"MO\", 2455], [\"CM\", 2397], [\"ME\", 2352], [\"QA\", 2335], [\"SY\", 2052], [\"LY\", 1849], [\"MT\", 1624], [\"TT\", 1497], [\"JM\", 1469], [\"TM\", 1427], [\"LR\", 1393], [\"PR\", 1350], [\"AF\", 1318], [\"TJ\", 1266], [\"YE\", 1182], [\"OM\", 1124], [\"ZW\", 1047], [\"BN\", 1024], [\"UG\", 1018], [\"MZ\", 978], [\"CI\", 954], [\"AO\", 930], [\"SN\", 901], [\"CG\", 894], [\"SV\", 890], [\"MW\", 861], [\"IS\", 825], [\"BW\", 799], [\"CV\", 788], [\"SR\", 782], [\"NA\", 764], [\"LU\", 750], [\"BI\", 690], [\"AG\", 636], [\"NI\", 605], [\"RW\", 602], [\"BZ\", 560], [\"CD\", 557], [\"MG\", 491], [\"90\", 484], [\"CW\", 409], [\"GU\", 395], [\"SZ\", 393], [\"SO\", 379], [\"HT\", 374], [\"BS\", 369], [\"BJ\", 368], [\"ZM\", 353], [\"BB\", 343], [\"TG\", 326], [\"RE\", 325], [\"GY\", 316], [\"GI\", 312], [\"FJ\", 305], [\"BF\", 299], [\"AW\", 277], [\"SX\", 249], [\"GA\", 239], [\"ML\", 230], [\"DM\", 192], [\"AD\", 188], [\"IM\", 178], [\"BT\", 170], [\"LS\", 168], [\"GQ\", 148], [\"PF\", 144], [\"VG\", 115], [\"NC\", 113], [\"SS\", 105], [\"LC\", 93], [\"TD\", 90], [\"KY\", 87], [\"CU\", 86], [\"NE\", 86], [\"TL\", 84], [\"MQ\", 79], [\"GN\", 75], [\"SL\", 70], [\"GM\", 64], [\"FO\", 63], [\"KN\", 58], [\"GD\", 53], [\"PG\", 51], [\"DJ\", 47], [\"MR\", 45], [\"VU\", 44], [\"GP\", 43], [\"SM\", 41], [\"BQ\", 38], [\"WS\", 31], [\"CF\", 30], [\"AI\", 29], [\"BM\", 27], [\"VI\", 26], [\"MH\", 24], [\"FM\", 23], [\"GG\", 21], [\"GF\", 19], [\"MC\", 17], [\"MF\", 13], [\"VC\", 13], [\"FK\", 12], [\"JE\", 10], [\"PM\", 8], [\"KM\", 5], [\"TC\", 5], [\"TO\", 4], [\"CK\", 3], [\"LI\", 2], [\"MP\", 2], [\"SB\", 1], [\"ST\", 1], [\"ER\", 1], [\"GW\", 1], [\"EU\", 1]]"
      ]
     },
     "execution_count": 11,
     "metadata": {},
     "output_type": "execute_result"
    }
   ],
   "source": [
    "# とりあえず一月合計を出す。 日本語名では重複があるので、ISOの国名コードをキーとする。API利用はしんどいのでISO=>日本語名への変換ようハッシュも用意する。\n",
    "sum = Hash.new(0)\n",
    "country_hash = {}\n",
    "csv.each do |line|\n",
    "  sum[line[\"country_ISO\"]]+=line[\"access_count\"].to_i\n",
    "  country_hash[line[\"country_ISO\"]] = line[\"country_JP\"] unless country_hash.include?(line[\"country_ISO\"])\n",
    "end\n",
    "\n",
    "sum.to_a.sort{ |a,b| b[1] <=> a[1]}.first(10).each do |result|\n",
    "  puts \"#{country_hash[result[0]]} : #{result[1]}\"\n",
    "end"
   ]
  },
  {
   "cell_type": "code",
   "execution_count": 4,
   "id": "7a8a2ddc",
   "metadata": {},
   "outputs": [
    {
     "name": "stdout",
     "output_type": "stream",
     "text": [
      "中国 : 4560886\n",
      "インド : 1893018\n",
      "アメリカ : 1267892\n",
      "ブラジル : 1180177\n",
      "メキシコ : 904221\n",
      "韓国 : 892285\n",
      "ロシア連邦 : 879117\n",
      "イラン : 840559\n",
      "台湾 : 541466\n",
      "ベトナム : 538287\n"
     ]
    },
    {
     "data": {
      "text/plain": [
       "[[\"CN\", 4560886], [\"IN\", 1893018], [\"US\", 1267892], [\"BR\", 1180177], [\"MX\", 904221], [\"KR\", 892285], [\"RU\", 879117], [\"IR\", 840559], [\"TW\", 541466], [\"VN\", 538287]]"
      ]
     },
     "execution_count": 4,
     "metadata": {},
     "output_type": "execute_result"
    }
   ],
   "source": [
    "require 'csv'\n",
    "# 3ヶ月合計した総アクセス数集計\n",
    "sum = Hash.new(0)\n",
    "country_hash = {}\n",
    "year = '2022'\n",
    "(9..11).each do |month|\n",
    "  month_format = \"%02d\" % month\n",
    "  csv = CSV.read(\"./#{year}_#{month_format}/country_host.csv\", headers: [\"date\", \"country_JP\",\"country_ISO\",\"access_count\",\"percent\"])\n",
    "  csv.each do |line|\n",
    "    sum[line[\"country_ISO\"]]+=line[\"access_count\"].to_i\n",
    "    country_hash[line[\"country_ISO\"]] = line[\"country_JP\"] unless country_hash.include?(line[\"country_ISO\"])\n",
    "  end\n",
    "end\n",
    "\n",
    "sum.to_a.sort{ |a,b| b[1] <=> a[1]}.first(10).each do |result|\n",
    "  puts \"#{country_hash[result[0]]} : #{result[1]}\"\n",
    "end\n"
   ]
  },
  {
   "cell_type": "code",
   "execution_count": 4,
   "id": "8e3f3dff",
   "metadata": {},
   "outputs": [
    {
     "name": "stdout",
     "output_type": "stream",
     "text": [
      "韓国 : 91\n",
      "インド : 91\n",
      "アメリカ : 91\n",
      "ブラジル : 91\n",
      "メキシコ : 91\n",
      "ロシア連邦 : 91\n",
      "中国 : 91\n",
      "イラン : 91\n",
      "ベトナム : 80\n",
      "台湾 : 60\n",
      "エジプト : 22\n",
      "インドネシア : 19\n",
      "イギリス : 1\n"
     ]
    },
    {
     "data": {
      "text/plain": [
       "[[\"KR\", 91], [\"IN\", 91], [\"US\", 91], [\"BR\", 91], [\"MX\", 91], [\"RU\", 91], [\"CN\", 91], [\"IR\", 91], [\"VN\", 80], [\"TW\", 60], [\"EG\", 22], [\"ID\", 19], [\"GB\", 1]]"
      ]
     },
     "execution_count": 4,
     "metadata": {},
     "output_type": "execute_result"
    }
   ],
   "source": [
    "# 日毎にTop10に入った回数を見る その回数が多ければ恒常的にアタックを仕掛けているということになる。\n",
    "require 'csv'\n",
    "\n",
    "sum = Hash.new(0)\n",
    "\n",
    "country_hash = {}\n",
    "year = '2022'\n",
    "(9..11).each do |month|\n",
    "  month_format = \"%02d\" % month\n",
    "  csv = CSV.read(\"./#{year}_#{month_format}/country_host.csv\", headers: [\"date\", \"country_JP\",\"country_ISO\",\"access_count\",\"percent\"])\n",
    "  csv.group_by{|line| line[\"date\"]}.each do |_,date_access|\n",
    "    date_access.sort{|a,b| b[\"access_count\"].to_i <=> a[\"access_count\"].to_i }.first(10).each do |line|\n",
    "      sum[line[\"country_ISO\"]]+=1\n",
    "      country_hash[line[\"country_ISO\"]] = line[\"country_JP\"] unless country_hash.include?(line[\"country_ISO\"])\n",
    "    end\n",
    "  end\n",
    "end\n",
    "\n",
    "sum.to_a.sort{ |a,b| b[1] <=> a[1]}.each do |result|\n",
    "  puts \"#{country_hash[result[0]]} : #{result[1]}\"\n",
    "end"
   ]
  },
  {
   "cell_type": "code",
   "execution_count": 10,
   "id": "fc6a2cbe",
   "metadata": {},
   "outputs": [
    {
     "name": "stdout",
     "output_type": "stream",
     "text": [
      "23 : 8021888,  0.00\n",
      "445 : 3920604,  0.00\n",
      "80 : 3639029,  0.00\n",
      "8080 : 3190789,  0.00\n",
      "2323 : 1694460,  0.00\n",
      "81 : 916377,  0.00\n",
      "5555 : 869536,  0.00\n",
      "37215 : 602468,  0.00\n",
      "22 : 488275,  0.00\n",
      "1433 : 470874,  0.00\n"
     ]
    },
    {
     "data": {
      "text/plain": [
       "[[\"23\", 8021888], [\"445\", 3920604], [\"80\", 3639029], [\"8080\", 3190789], [\"2323\", 1694460], [\"81\", 916377], [\"5555\", 869536], [\"37215\", 602468], [\"22\", 488275], [\"1433\", 470874]]"
      ]
     },
     "execution_count": 10,
     "metadata": {},
     "output_type": "execute_result"
    }
   ],
   "source": [
    "require 'csv'\n",
    "# 3ヶ月合計した総アクセス数集計 TCPホスト版\n",
    "sum = Hash.new(0)\n",
    "total_sum = 0\n",
    "year = '2022'\n",
    "(9..11).each do |month|\n",
    "  month_format = \"%02d\" % month\n",
    "  csv = CSV.read(\"./#{year}_#{month_format}/tcp_host.csv\", headers: [\"date\", \"port\",\"access_count\",\"percent\"])\n",
    "  csv.each do |line|\n",
    "    sum[line[\"port\"]]+=line[\"access_count\"].to_i\n",
    "    total_sum += line[\"access_count\"].to_i\n",
    "  end\n",
    "end"
   ]
  },
  {
   "cell_type": "code",
   "execution_count": 18,
   "id": "7462d16f",
   "metadata": {},
   "outputs": [
    {
     "name": "stdout",
     "output_type": "stream",
     "text": [
      "   23:   8021888, 2.79\n",
      "  445:   3920604, 1.36\n",
      "   80:   3639029, 1.27\n",
      " 8080:   3190789, 1.11\n",
      " 2323:   1694460, 0.59\n",
      "   81:    916377, 0.32\n",
      " 5555:    869536, 0.30\n",
      " 37215:    602468, 0.21\n",
      "   22:    488275, 0.17\n",
      " 1433:    470874, 0.16\n"
     ]
    },
    {
     "data": {
      "text/plain": [
       "[[\"23\", 8021888], [\"445\", 3920604], [\"80\", 3639029], [\"8080\", 3190789], [\"2323\", 1694460], [\"81\", 916377], [\"5555\", 869536], [\"37215\", 602468], [\"22\", 488275], [\"1433\", 470874]]"
      ]
     },
     "execution_count": 18,
     "metadata": {},
     "output_type": "execute_result"
    }
   ],
   "source": [
    "sum.to_a.sort{ |a,b| b[1] <=> a[1]}.first(10).each do |result|\n",
    "  puts \"%5d:%10d,%4.2f\" % [result[0],result[1],Rational(result[1] * 100,total_sum)]\n",
    "end"
   ]
  },
  {
   "cell_type": "code",
   "execution_count": 19,
   "id": "3855a6ab",
   "metadata": {},
   "outputs": [
    {
     "data": {
      "text/plain": [
       "9..11"
      ]
     },
     "execution_count": 19,
     "metadata": {},
     "output_type": "execute_result"
    }
   ],
   "source": [
    "require 'csv'\n",
    "# 日毎にTop10に入った回数を見る TCPホスト版\n",
    "sum = Hash.new(0)\n",
    "total_sum = 0\n",
    "year = '2022'\n",
    "(9..11).each do |month|\n",
    "  month_format = \"%02d\" % month\n",
    "  csv = CSV.read(\"./#{year}_#{month_format}/tcp_host.csv\", headers: [\"date\", \"port\",\"access_count\",\"percent\"])\n",
    "  csv.group_by{|line| line[\"date\"]}.each do |_,date_access|\n",
    "    date_access.sort{|a,b| b[\"access_count\"].to_i <=> a[\"access_count\"].to_i }.first(10).each do |line|\n",
    "      sum[line[\"port\"]]+=1\n",
    "    end\n",
    "  end\n",
    "end"
   ]
  },
  {
   "cell_type": "code",
   "execution_count": 22,
   "id": "452c64a5",
   "metadata": {},
   "outputs": [
    {
     "name": "stdout",
     "output_type": "stream",
     "text": [
      "23 : 91\n",
      "445 : 91\n",
      "80 : 91\n",
      "8080 : 91\n",
      "2323 : 91\n",
      "81 : 90\n",
      "5555 : 89\n",
      "1433 : 65\n",
      "22 : 61\n",
      "37215 : 59\n",
      "8443 : 24\n",
      "26 : 19\n",
      "443 : 13\n",
      "1911 : 3\n",
      "102 : 3\n",
      "8081 : 3\n",
      "3389 : 3\n",
      "3306 : 3\n",
      "1723 : 3\n",
      "6379 : 3\n",
      "60023 : 2\n",
      "9200 : 2\n",
      "5432 : 2\n",
      "5984 : 1\n",
      "4040 : 1\n",
      "1962 : 1\n",
      "502 : 1\n",
      "21 : 1\n",
      "5601 : 1\n",
      "5900 : 1\n",
      "3299 : 1\n"
     ]
    },
    {
     "data": {
      "text/plain": [
       "[[\"23\", 91], [\"445\", 91], [\"80\", 91], [\"8080\", 91], [\"2323\", 91], [\"81\", 90], [\"5555\", 89], [\"1433\", 65], [\"22\", 61], [\"37215\", 59], [\"8443\", 24], [\"26\", 19], [\"443\", 13], [\"1911\", 3], [\"102\", 3], [\"8081\", 3], [\"3389\", 3], [\"3306\", 3], [\"1723\", 3], [\"6379\", 3], [\"60023\", 2], [\"9200\", 2], [\"5432\", 2], [\"5984\", 1], [\"4040\", 1], [\"1962\", 1], [\"502\", 1], [\"21\", 1], [\"5601\", 1], [\"5900\", 1], [\"3299\", 1]]"
      ]
     },
     "execution_count": 22,
     "metadata": {},
     "output_type": "execute_result"
    }
   ],
   "source": [
    "sum.to_a.sort{ |a,b| b[1] <=> a[1]}.each do |result|\n",
    "  puts \"#{result[0]} : #{result[1]}\"\n",
    "end"
   ]
  },
  {
   "cell_type": "code",
   "execution_count": 23,
   "id": "f4af6978",
   "metadata": {},
   "outputs": [
    {
     "data": {
      "text/plain": [
       "9..11"
      ]
     },
     "execution_count": 23,
     "metadata": {},
     "output_type": "execute_result"
    }
   ],
   "source": [
    "require 'csv'\n",
    "# 3ヶ月合計した総アクセス数集計 TCPホスト版\n",
    "sum = Hash.new(0)\n",
    "total_sum = 0\n",
    "year = '2022'\n",
    "(9..11).each do |month|\n",
    "  month_format = \"%02d\" % month\n",
    "  csv = CSV.read(\"./#{year}_#{month_format}/udp_host.csv\", headers: [\"date\", \"port\",\"access_count\",\"percent\"])\n",
    "  csv.each do |line|\n",
    "    sum[line[\"port\"]]+=line[\"access_count\"].to_i\n",
    "    total_sum += line[\"access_count\"].to_i\n",
    "  end\n",
    "end"
   ]
  },
  {
   "cell_type": "code",
   "execution_count": 24,
   "id": "86e8621e",
   "metadata": {},
   "outputs": [
    {
     "name": "stdout",
     "output_type": "stream",
     "text": [
      " 3702:    191152,1.74\n",
      " 5060:    183347,1.67\n",
      " 5353:    181843,1.66\n",
      " 1900:    176586,1.61\n",
      " 6881:    171429,1.56\n",
      " 8080:    155619,1.42\n",
      " 8081:    155029,1.41\n",
      " 8000:    155028,1.41\n",
      " 8082:    154992,1.41\n",
      " 8083:    154836,1.41\n"
     ]
    },
    {
     "data": {
      "text/plain": [
       "[[\"3702\", 191152], [\"5060\", 183347], [\"5353\", 181843], [\"1900\", 176586], [\"6881\", 171429], [\"8080\", 155619], [\"8081\", 155029], [\"8000\", 155028], [\"8082\", 154992], [\"8083\", 154836]]"
      ]
     },
     "execution_count": 24,
     "metadata": {},
     "output_type": "execute_result"
    }
   ],
   "source": [
    "sum.to_a.sort{ |a,b| b[1] <=> a[1]}.first(10).each do |result|\n",
    "  puts \"%5d:%10d,%4.2f\" % [result[0],result[1],Rational(result[1] * 100,total_sum)]\n",
    "end"
   ]
  },
  {
   "cell_type": "code",
   "execution_count": 25,
   "id": "287a9ece",
   "metadata": {},
   "outputs": [
    {
     "data": {
      "text/plain": [
       "9..11"
      ]
     },
     "execution_count": 25,
     "metadata": {},
     "output_type": "execute_result"
    }
   ],
   "source": [
    "require 'csv'\n",
    "# 日毎にTop10に入った回数を見る TCPホスト版\n",
    "sum = Hash.new(0)\n",
    "total_sum = 0\n",
    "year = '2022'\n",
    "(9..11).each do |month|\n",
    "  month_format = \"%02d\" % month\n",
    "  csv = CSV.read(\"./#{year}_#{month_format}/udp_host.csv\", headers: [\"date\", \"port\",\"access_count\",\"percent\"])\n",
    "  csv.group_by{|line| line[\"date\"]}.each do |_,date_access|\n",
    "    date_access.sort{|a,b| b[\"access_count\"].to_i <=> a[\"access_count\"].to_i }.first(10).each do |line|\n",
    "      sum[line[\"port\"]]+=1\n",
    "    end\n",
    "  end\n",
    "end"
   ]
  },
  {
   "cell_type": "code",
   "execution_count": 27,
   "id": "1b405c1f",
   "metadata": {},
   "outputs": [
    {
     "name": "stdout",
     "output_type": "stream",
     "text": [
      "5060 : 91\n",
      "6881 : 91\n",
      "1900 : 91\n",
      "5353 : 91\n",
      "8080 : 58\n",
      "8082 : 44\n",
      "8081 : 41\n",
      "8000 : 40\n",
      "8083 : 38\n",
      "30301 : 34\n"
     ]
    },
    {
     "data": {
      "text/plain": [
       "[[\"5060\", 91], [\"6881\", 91], [\"1900\", 91], [\"5353\", 91], [\"8080\", 58], [\"8082\", 44], [\"8081\", 41], [\"8000\", 40], [\"8083\", 38], [\"30301\", 34]]"
      ]
     },
     "execution_count": 27,
     "metadata": {},
     "output_type": "execute_result"
    }
   ],
   "source": [
    "sum.to_a.sort{ |a,b| b[1] <=> a[1]}.first(10).each do |result|\n",
    "  puts \"#{result[0]} : #{result[1]}\"\n",
    "end"
   ]
  }
 ],
 "metadata": {
  "kernelspec": {
   "display_name": "Ruby 2.7.5",
   "language": "ruby",
   "name": "ruby"
  },
  "language_info": {
   "file_extension": ".rb",
   "mimetype": "application/x-ruby",
   "name": "ruby",
   "version": "2.7.5"
  }
 },
 "nbformat": 4,
 "nbformat_minor": 5
}
