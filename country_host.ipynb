{
 "cells": [
  {
   "cell_type": "code",
   "execution_count": 6,
   "id": "40217fbd",
   "metadata": {},
   "outputs": [
    {
     "data": {
      "text/plain": [
       "#<CSV::Table mode:col_or_row row_count:6130>"
      ]
     },
     "execution_count": 6,
     "metadata": {},
     "output_type": "execute_result"
    }
   ],
   "source": [
    "require 'csv'\n",
    "# 国別ホストCSVのヘッダは\n",
    "# \n",
    "csv = CSV.read('./2022_09/country_host.csv', headers: [\"date\", \"country_JP\",\"country_ISO\",\"access_count\",\"percent\"])"
   ]
  },
  {
   "cell_type": "code",
   "execution_count": 7,
   "id": "a51d1603",
   "metadata": {},
   "outputs": [
    {
     "name": "stdout",
     "output_type": "stream",
     "text": [
      "#<CSV::Row \"date\":\"2022/09/01\" \"country_JP\":\"中国\" \"country_ISO\":\"CN\" \"access_count\":\"64096\" \"percent\":\"25.6785613\">\n",
      "#<CSV::Row \"date\":\"2022/09/01\" \"country_JP\":\"インド\" \"country_ISO\":\"IN\" \"access_count\":\"22837\" \"percent\":\"9.1491092\">\n",
      "#<CSV::Row \"date\":\"2022/09/01\" \"country_JP\":\"アメリカ\" \"country_ISO\":\"US\" \"access_count\":\"14253\" \"percent\":\"5.7101306\">\n",
      "#<CSV::Row \"date\":\"2022/09/01\" \"country_JP\":\"ブラジル\" \"country_ISO\":\"BR\" \"access_count\":\"11722\" \"percent\":\"4.6961448\">\n",
      "#<CSV::Row \"date\":\"2022/09/01\" \"country_JP\":\"メキシコ\" \"country_ISO\":\"MX\" \"access_count\":\"10337\" \"percent\":\"4.1412770\">\n",
      "#<CSV::Row \"date\":\"2022/09/01\" \"country_JP\":\"ロシア連邦\" \"country_ISO\":\"RU\" \"access_count\":\"10028\" \"percent\":\"4.0174833\">\n",
      "#<CSV::Row \"date\":\"2022/09/01\" \"country_JP\":\"エジプト\" \"country_ISO\":\"EG\" \"access_count\":\"9769\" \"percent\":\"3.9137211\">\n",
      "#<CSV::Row \"date\":\"2022/09/01\" \"country_JP\":\"イラン\" \"country_ISO\":\"IR\" \"access_count\":\"9229\" \"percent\":\"3.6973827\">\n",
      "#<CSV::Row \"date\":\"2022/09/01\" \"country_JP\":\"インドネシア\" \"country_ISO\":\"ID\" \"access_count\":\"6376\" \"percent\":\"2.5543951\">\n",
      "#<CSV::Row \"date\":\"2022/09/01\" \"country_JP\":\"韓国\" \"country_ISO\":\"KR\" \"access_count\":\"6151\" \"percent\":\"2.4642541\">\n"
     ]
    }
   ],
   "source": [
    "count = 0 \n",
    "csv.each do |line|\n",
    "  break if count == 10\n",
    "  p line\n",
    "  count+=1\n",
    "end"
   ]
  },
  {
   "cell_type": "code",
   "execution_count": 11,
   "id": "289bca41",
   "metadata": {},
   "outputs": [
    {
     "data": {
      "text/plain": [
       "[[\"CN\", 1727094], [\"IN\", 626686], [\"US\", 402883], [\"BR\", 363992], [\"MX\", 314893], [\"KR\", 295221], [\"RU\", 293032], [\"IR\", 270190], [\"EG\", 218569], [\"VN\", 170173], [\"ID\", 163467], [\"TW\", 156348], [\"PH\", 122307], [\"TH\", 121601], [\"JP\", 93834], [\"PK\", 87541], [\"GB\", 86065], [\"TR\", 85021], [\"IT\", 73431], [\"HK\", 70619], [\"DE\", 69995], [\"AR\", 63992], [\"PL\", 59322], [\"FR\", 52499], [\"CA\", 51940], [\"VE\", 49656], [\"UA\", 49457], [\"ES\", 48395], [\"BD\", 46491], [\"GR\", 43527], [\"RS\", 40639], [\"SG\", 36333], [\"MY\", 35947], [\"SE\", 33760], [\"CO\", 30292], [\"ZA\", 29523], [\"AU\", 26761], [\"LB\", 24887], [\"CZ\", 23732], [\"PE\", 22247], [\"PT\", 22147], [\"RO\", 21617], [\"NG\", 21165], [\"HR\", 20821], [\"NL\", 20732], [\"KZ\", 19566], [\"IL\", 19448], [\"KH\", 19001], [\"SA\", 17978], [\"CL\", 17911], [\"BO\", 17234], [\"EC\", 16523], [\"PS\", 15700], [\"BG\", 14499], [\"MN\", 14133], [\"HU\", 13670], [\"AE\", 13271], [\"MA\", 12742], [\"TN\", 12089], [\"AL\", 11945], [\"KE\", 11621], [\"BE\", 11323], [\"DZ\", 10912], [\"BA\", 10485], [\"NP\", 8587], [\"DO\", 8357], [\"GE\", 8119], [\"BY\", 7923], [\"LT\", 7781], [\"AT\", 7654], [\"LV\", 7547], [\"SK\", 7522], [\"AM\", 7510], [\"MK\", 7407], [\"LK\", 7386], [\"ET\", 7279], [\"IQ\", 6693], [\"UZ\", 6624], [\"PW\", 6500], [\"NO\", 6177], [\"NZ\", 6048], [\"MU\", 5910], [\"UY\", 5769], [\"PA\", 5393], [\"HN\", 4822], [\"SC\", 4647], [\"SI\", 4446], [\"JO\", 4354], [\"MD\", 4222], [\"CH\", 4188], [\"CR\", 4125], [\"KW\", 4116], [\"AZ\", 4093], [\"DK\", 4075], [\"LA\", 4061], [\"KG\", 3715], [\"EE\", 3666], [\"IE\", 3513], [\"CY\", 3358], [\"TZ\", 3264], [\"BH\", 3253], [\"MM\", 3087], [\"SD\", 3075], [\"PY\", 2939], [\"GT\", 2801], [\"FI\", 2740], [\"MV\", 2739], [\"GH\", 2585], [\"MO\", 2455], [\"CM\", 2397], [\"ME\", 2352], [\"QA\", 2335], [\"SY\", 2052], [\"LY\", 1849], [\"MT\", 1624], [\"TT\", 1497], [\"JM\", 1469], [\"TM\", 1427], [\"LR\", 1393], [\"PR\", 1350], [\"AF\", 1318], [\"TJ\", 1266], [\"YE\", 1182], [\"OM\", 1124], [\"ZW\", 1047], [\"BN\", 1024], [\"UG\", 1018], [\"MZ\", 978], [\"CI\", 954], [\"AO\", 930], [\"SN\", 901], [\"CG\", 894], [\"SV\", 890], [\"MW\", 861], [\"IS\", 825], [\"BW\", 799], [\"CV\", 788], [\"SR\", 782], [\"NA\", 764], [\"LU\", 750], [\"BI\", 690], [\"AG\", 636], [\"NI\", 605], [\"RW\", 602], [\"BZ\", 560], [\"CD\", 557], [\"MG\", 491], [\"90\", 484], [\"CW\", 409], [\"GU\", 395], [\"SZ\", 393], [\"SO\", 379], [\"HT\", 374], [\"BS\", 369], [\"BJ\", 368], [\"ZM\", 353], [\"BB\", 343], [\"TG\", 326], [\"RE\", 325], [\"GY\", 316], [\"GI\", 312], [\"FJ\", 305], [\"BF\", 299], [\"AW\", 277], [\"SX\", 249], [\"GA\", 239], [\"ML\", 230], [\"DM\", 192], [\"AD\", 188], [\"IM\", 178], [\"BT\", 170], [\"LS\", 168], [\"GQ\", 148], [\"PF\", 144], [\"VG\", 115], [\"NC\", 113], [\"SS\", 105], [\"LC\", 93], [\"TD\", 90], [\"KY\", 87], [\"CU\", 86], [\"NE\", 86], [\"TL\", 84], [\"MQ\", 79], [\"GN\", 75], [\"SL\", 70], [\"GM\", 64], [\"FO\", 63], [\"KN\", 58], [\"GD\", 53], [\"PG\", 51], [\"DJ\", 47], [\"MR\", 45], [\"VU\", 44], [\"GP\", 43], [\"SM\", 41], [\"BQ\", 38], [\"WS\", 31], [\"CF\", 30], [\"AI\", 29], [\"BM\", 27], [\"VI\", 26], [\"MH\", 24], [\"FM\", 23], [\"GG\", 21], [\"GF\", 19], [\"MC\", 17], [\"MF\", 13], [\"VC\", 13], [\"FK\", 12], [\"JE\", 10], [\"PM\", 8], [\"KM\", 5], [\"TC\", 5], [\"TO\", 4], [\"CK\", 3], [\"LI\", 2], [\"MP\", 2], [\"SB\", 1], [\"ST\", 1], [\"ER\", 1], [\"GW\", 1], [\"EU\", 1]]"
      ]
     },
     "execution_count": 11,
     "metadata": {},
     "output_type": "execute_result"
    }
   ],
   "source": [
    "# とりあえず一月合計を出す。 日本語名では重複があるので、ISOの国名コードをキーとする。API利用はしんどいのでISO=>日本語名への変換ようハッシュも用意する。\n",
    "sum = Hash.new(0)\n",
    "country_hash = {}\n",
    "csv.each do |line|\n",
    "  sum[line[\"country_ISO\"]]+=line[\"access_count\"].to_i\n",
    "  country_hash[line[\"country_ISO\"]] = line[\"country_JP\"] unless country_hash.include?(line[\"country_ISO\"])\n",
    "end\n"
   ]
  },
  {
   "cell_type": "code",
   "execution_count": 12,
   "id": "7a8a2ddc",
   "metadata": {},
   "outputs": [
    {
     "name": "stdout",
     "output_type": "stream",
     "text": [
      "中国 : 1727094\n",
      "インド : 626686\n",
      "アメリカ : 402883\n",
      "ブラジル : 363992\n",
      "メキシコ : 314893\n",
      "韓国 : 295221\n",
      "ロシア連邦 : 293032\n",
      "イラン : 270190\n",
      "エジプト : 218569\n",
      "ベトナム : 170173\n"
     ]
    },
    {
     "data": {
      "text/plain": [
       "[[\"CN\", 1727094], [\"IN\", 626686], [\"US\", 402883], [\"BR\", 363992], [\"MX\", 314893], [\"KR\", 295221], [\"RU\", 293032], [\"IR\", 270190], [\"EG\", 218569], [\"VN\", 170173]]"
      ]
     },
     "execution_count": 12,
     "metadata": {},
     "output_type": "execute_result"
    }
   ],
   "source": [
    "def formart_num(number)\n",
    "  \n",
    "end\n",
    "\n",
    "sum.to_a.sort{ |a,b| b[1] <=> a[1]}.first(10).each do |result|\n",
    "  puts \"#{country_hash[result[0]]} : #{result[1]}\"\n",
    "end"
   ]
  }
 ],
 "metadata": {
  "kernelspec": {
   "display_name": "Ruby 2.7.5",
   "language": "ruby",
   "name": "ruby"
  },
  "language_info": {
   "file_extension": ".rb",
   "mimetype": "application/x-ruby",
   "name": "ruby",
   "version": "2.7.5"
  }
 },
 "nbformat": 4,
 "nbformat_minor": 5
}
